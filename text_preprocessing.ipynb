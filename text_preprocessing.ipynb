{
 "cells": [
  {
   "cell_type": "markdown",
   "metadata": {},
   "source": [
    "# Preprocessing\n",
    "\n",
    "In this lab, we will be exploring how to preprocess text for further analysis. Let us first import the libraries we will be using."
   ]
  },
  {
   "cell_type": "code",
   "execution_count": null,
   "metadata": {},
   "outputs": [],
   "source": [
    "import nltk\n",
    "import re"
   ]
  },
  {
   "cell_type": "markdown",
   "metadata": {},
   "source": [
    "## Preprocess raw text\n",
    "Data preprocessing is one of the critical steps in any machine learning project. It includes cleaning and formatting the data before feeding into a machine learning algorithm. For NLP, the preprocessing steps are comprised of the following tasks:\n",
    "\n",
    "* Lowercasing\n",
    "* Removing unwanted characters\n",
    "* Tokenizing the string\n",
    "* Removing stop words and punctuation\n",
    "* Stemming or Lemmatization\n",
    "\n",
    "Let's move on to perform some text preprocessing methods on below raw text."
   ]
  },
  {
   "cell_type": "code",
   "execution_count": null,
   "metadata": {},
   "outputs": [],
   "source": [
    "text = '  <span>Just 2 weeks ago</span>, Disney&amp;&amp; announced    it would    shed some 28000 workers, including many at its parks in Florida and California.https://www.bbc.com/news/business-54390428'\n",
    "print(text)"
   ]
  },
  {
   "cell_type": "markdown",
   "metadata": {},
   "source": [
    "## Lowercasing"
   ]
  },
  {
   "cell_type": "code",
   "execution_count": null,
   "metadata": {},
   "outputs": [],
   "source": [
    "### START CODE HERE ###\n",
    "text = \n",
    "### END CODE HERE ###\n",
    "print (text)"
   ]
  },
  {
   "cell_type": "markdown",
   "metadata": {},
   "source": [
    "#### Expected output\n",
    "```\n",
    "  <span>just 2 weeks ago</span>, disney&amp;&amp; announced    it would    shed some 28000 workers, including many at its parks in florida and california.https://www.bbc.com/news/business-54390428\n",
    "```"
   ]
  },
  {
   "cell_type": "markdown",
   "metadata": {},
   "source": [
    "## Removing hyperlinks"
   ]
  },
  {
   "cell_type": "code",
   "execution_count": null,
   "metadata": {},
   "outputs": [],
   "source": [
    "### START CODE HERE ###\n",
    "text = \n",
    "### END CODE HERE ###\n",
    "print (text)"
   ]
  },
  {
   "cell_type": "markdown",
   "metadata": {},
   "source": [
    "#### Expected output\n",
    "```\n",
    "  <span>just 2 weeks ago</span>, disney&amp;&amp; announced    it would    shed some 28000 workers, including many at its parks in florida and california.\n",
    "```"
   ]
  },
  {
   "cell_type": "markdown",
   "metadata": {},
   "source": [
    "## Removing special characters"
   ]
  },
  {
   "cell_type": "code",
   "execution_count": null,
   "metadata": {},
   "outputs": [],
   "source": [
    "### START CODE HERE ###\n",
    "# Remove &amp;\n",
    "text = \n",
    "### END CODE HERE ###\n",
    "print (text)"
   ]
  },
  {
   "cell_type": "markdown",
   "metadata": {},
   "source": [
    "#### Expected output\n",
    "```\n",
    "  <span>just 2 weeks ago</span>, disney announced    it would    shed some 28000 workers, including many at its parks in florida and california.\n",
    "```"
   ]
  },
  {
   "cell_type": "markdown",
   "metadata": {},
   "source": [
    "## Removing html tags"
   ]
  },
  {
   "cell_type": "code",
   "execution_count": null,
   "metadata": {},
   "outputs": [],
   "source": [
    "### START CODE HERE ###\n",
    "# Remove &amp;\n",
    "text = \n",
    "### END CODE HERE ###\n",
    "print(text)"
   ]
  },
  {
   "cell_type": "markdown",
   "metadata": {},
   "source": [
    "#### Expected output\n",
    "```\n",
    "  just 2 weeks ago, disney announced    it would    shed some 28000 workers, including many at its parks in florida and california.\n",
    "```"
   ]
  },
  {
   "cell_type": "markdown",
   "metadata": {},
   "source": [
    "## Remove unwanted spaces from string"
   ]
  },
  {
   "cell_type": "code",
   "execution_count": null,
   "metadata": {},
   "outputs": [],
   "source": [
    "### START CODE HERE ###\n",
    "# Remove unwanted spaces beforew and after a string\n",
    "text = \n",
    "# Remove unwanted spaces inside a string\n",
    "text = \n",
    "### END CODE HERE ###\n",
    "print(text)"
   ]
  },
  {
   "cell_type": "markdown",
   "metadata": {},
   "source": [
    "#### Expected output\n",
    "```\n",
    "just 2 weeks ago, disney announced it would shed some 28000 workers, including many at its parks in florida and california.\n",
    "```"
   ]
  },
  {
   "cell_type": "markdown",
   "metadata": {},
   "source": [
    "## Replace number with NUM"
   ]
  },
  {
   "cell_type": "code",
   "execution_count": null,
   "metadata": {},
   "outputs": [],
   "source": [
    "### START CODE HERE ###\n",
    "# Remove &amp;\n",
    "text = \n",
    "### END CODE HERE ###\n",
    "print(text)"
   ]
  },
  {
   "cell_type": "markdown",
   "metadata": {},
   "source": [
    "#### Expected output\n",
    "```\n",
    "just NUM weeks ago, disney announced it would shed some NUM workers, including many at its parks in florida and california.\n",
    "```"
   ]
  },
  {
   "cell_type": "markdown",
   "metadata": {},
   "source": [
    "## Tokenization"
   ]
  },
  {
   "cell_type": "code",
   "execution_count": null,
   "metadata": {},
   "outputs": [],
   "source": [
    "from nltk import word_tokenize\n",
    "### START CODE HERE ###\n",
    "tokens = \n",
    "### END CODE HERE ###\n",
    "print(tokens)"
   ]
  },
  {
   "cell_type": "markdown",
   "metadata": {},
   "source": [
    "#### Expected output\n",
    "```\n",
    "['just', 'NUM', 'weeks', 'ago', ',', 'disney', 'announced', 'it', 'would', 'shed', 'some', 'NUM', 'workers', ',', 'including', 'many', 'at', 'its', 'parks', 'in', 'florida', 'and', 'california', '.']\n",
    "```"
   ]
  },
  {
   "cell_type": "markdown",
   "metadata": {},
   "source": [
    "## Remove stop words and punctuations"
   ]
  },
  {
   "cell_type": "code",
   "execution_count": null,
   "metadata": {},
   "outputs": [],
   "source": [
    "nltk.download('stopwords') \n",
    "from nltk.corpus import stopwords\n",
    "stopwords_english = stopwords.words('english')\n",
    "print('Stop words\\n')\n",
    "print(stopwords_english)\n",
    "\n",
    "from string import punctuation\n",
    "print('\\nPunctuation\\n')\n",
    "print(punctuation)"
   ]
  },
  {
   "cell_type": "code",
   "execution_count": null,
   "metadata": {},
   "outputs": [],
   "source": [
    "stopwords_english  = set(stopwords_english)\n",
    "### START CODE HERE ###\n",
    "filtered_tokens = [word for word in tokens if word not in stopwords_english and word not in punctuation]\n",
    "### END CODE HERE ###\n",
    "print(filtered_tokens)"
   ]
  },
  {
   "cell_type": "markdown",
   "metadata": {},
   "source": [
    "#### Expected output\n",
    "```\n",
    "['NUM', 'weeks', 'ago', 'disney', 'announced', 'would', 'shed', 'NUM', 'workers', 'including', 'many', 'parks', 'florida', 'california']\n",
    "```"
   ]
  },
  {
   "cell_type": "markdown",
   "metadata": {},
   "source": [
    "## Stemming"
   ]
  },
  {
   "cell_type": "code",
   "execution_count": null,
   "metadata": {},
   "outputs": [],
   "source": [
    "from nltk.stem import PorterStemmer\n",
    "stemmer = PorterStemmer()\n",
    "### START CODE HERE ###\n",
    "final_tokens = \n",
    "### END CODE HERE ###\n",
    "print(final_tokens)"
   ]
  },
  {
   "cell_type": "markdown",
   "metadata": {},
   "source": [
    "#### Expected output\n",
    "```\n",
    "['num', 'week', 'ago', 'disney', 'announc', 'would', 'shed', 'num', 'worker', 'includ', 'mani', 'park', 'florida', 'california']\n",
    "```"
   ]
  },
  {
   "cell_type": "markdown",
   "metadata": {},
   "source": [
    "## lemmatization"
   ]
  },
  {
   "cell_type": "code",
   "execution_count": null,
   "metadata": {},
   "outputs": [],
   "source": [
    "from nltk.stem import WordNetLemmatizer\n",
    "lemmatizer = WordNetLemmatizer()\n",
    "### START CODE HERE ###\n",
    "final_tokens = \n",
    "### END CODE HERE ###\n",
    "print(final_tokens)"
   ]
  }
 ],
 "metadata": {
  "kernelspec": {
   "display_name": "Python 3",
   "language": "python",
   "name": "python3"
  },
  "language_info": {
   "codemirror_mode": {
    "name": "ipython",
    "version": 3
   },
   "file_extension": ".py",
   "mimetype": "text/x-python",
   "name": "python",
   "nbconvert_exporter": "python",
   "pygments_lexer": "ipython3",
   "version": "3.7.4"
  }
 },
 "nbformat": 4,
 "nbformat_minor": 2
}
