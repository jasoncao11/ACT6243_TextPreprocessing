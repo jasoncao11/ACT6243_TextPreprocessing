{
 "cells": [
  {
   "cell_type": "markdown",
   "metadata": {},
   "source": [
    "# Preprocessing\n",
    "\n",
    "In this lab, we will be exploring how to preprocess text for further analysis. Let us first import the libraries we will be using."
   ]
  },
  {
   "cell_type": "code",
   "execution_count": 27,
   "metadata": {},
   "outputs": [],
   "source": [
    "import nltk\n",
    "import re\n",
    "import jieba\n",
    "from snownlp import SnowNLP"
   ]
  },
  {
   "cell_type": "markdown",
   "metadata": {},
   "source": [
    "## Preprocess raw text\n",
    "Data preprocessing is one of the critical steps in any machine learning project. It includes cleaning and formatting the data before feeding into a machine learning algorithm. For NLP, the preprocessing steps are comprised of the following tasks:\n",
    "\n",
    "* Lowercasing\n",
    "* Removing unwanted characters\n",
    "* Tokenizing the string\n",
    "* Removing stop words and punctuation\n",
    "* Stemming or Lemmatization"
   ]
  },
  {
   "cell_type": "markdown",
   "metadata": {},
   "source": [
    "## Exercise 01 - English text preprocessing"
   ]
  },
  {
   "cell_type": "code",
   "execution_count": 28,
   "metadata": {},
   "outputs": [
    {
     "name": "stdout",
     "output_type": "stream",
     "text": [
      "  <span>Just 2 weeks ago</span>, Disney&amp;&amp; announced    it would    shed some 28000 workers, including many at its parks in Florida and California.https://www.bbc.com/news/business-54390428\n"
     ]
    }
   ],
   "source": [
    "text = '  <span>Just 2 weeks ago</span>, Disney&amp;&amp; announced    it would    shed some 28000 workers, including many at its parks in Florida and California.https://www.bbc.com/news/business-54390428'\n",
    "print(text)"
   ]
  },
  {
   "cell_type": "markdown",
   "metadata": {},
   "source": [
    "## Lowercasing"
   ]
  },
  {
   "cell_type": "code",
   "execution_count": 29,
   "metadata": {},
   "outputs": [
    {
     "name": "stdout",
     "output_type": "stream",
     "text": [
      "  <span>just 2 weeks ago</span>, disney&amp;&amp; announced    it would    shed some 28000 workers, including many at its parks in florida and california.https://www.bbc.com/news/business-54390428\n"
     ]
    }
   ],
   "source": [
    "### START CODE HERE ###\n",
    "text = \n",
    "### END CODE HERE ###\n",
    "print (text)"
   ]
  },
  {
   "cell_type": "markdown",
   "metadata": {},
   "source": [
    "#### Expected output\n",
    "```\n",
    "  <span>just 2 weeks ago</span>, disney&amp;&amp; announced    it would    shed some 28000 workers, including many at its parks in florida and california.https://www.bbc.com/news/business-54390428\n",
    "```"
   ]
  },
  {
   "cell_type": "markdown",
   "metadata": {},
   "source": [
    "## Removing hyperlinks"
   ]
  },
  {
   "cell_type": "code",
   "execution_count": 30,
   "metadata": {},
   "outputs": [
    {
     "name": "stdout",
     "output_type": "stream",
     "text": [
      "  <span>just 2 weeks ago</span>, disney&amp;&amp; announced    it would    shed some 28000 workers, including many at its parks in florida and california.\n"
     ]
    }
   ],
   "source": [
    "### START CODE HERE ###\n",
    "text = \n",
    "### END CODE HERE ###\n",
    "print (text)"
   ]
  },
  {
   "cell_type": "markdown",
   "metadata": {},
   "source": [
    "#### Expected output\n",
    "```\n",
    "  <span>just 2 weeks ago</span>, disney&amp;&amp; announced    it would    shed some 28000 workers, including many at its parks in florida and california.\n",
    "```"
   ]
  },
  {
   "cell_type": "markdown",
   "metadata": {},
   "source": [
    "## Removing special characters"
   ]
  },
  {
   "cell_type": "code",
   "execution_count": 31,
   "metadata": {},
   "outputs": [
    {
     "name": "stdout",
     "output_type": "stream",
     "text": [
      "  <span>just 2 weeks ago</span>, disney announced    it would    shed some 28000 workers, including many at its parks in florida and california.\n"
     ]
    }
   ],
   "source": [
    "### START CODE HERE ###\n",
    "# Remove &amp;\n",
    "text = \n",
    "### END CODE HERE ###\n",
    "print (text)"
   ]
  },
  {
   "cell_type": "markdown",
   "metadata": {},
   "source": [
    "#### Expected output\n",
    "```\n",
    "  <span>just 2 weeks ago</span>, disney announced    it would    shed some 28000 workers, including many at its parks in florida and california.\n",
    "```"
   ]
  },
  {
   "cell_type": "markdown",
   "metadata": {},
   "source": [
    "## Removing html tags"
   ]
  },
  {
   "cell_type": "code",
   "execution_count": 32,
   "metadata": {},
   "outputs": [
    {
     "name": "stdout",
     "output_type": "stream",
     "text": [
      "  just 2 weeks ago, disney announced    it would    shed some 28000 workers, including many at its parks in florida and california.\n"
     ]
    }
   ],
   "source": [
    "### START CODE HERE ###\n",
    "text = \n",
    "### END CODE HERE ###\n",
    "print(text)"
   ]
  },
  {
   "cell_type": "markdown",
   "metadata": {},
   "source": [
    "#### Expected output\n",
    "```\n",
    "  just 2 weeks ago, disney announced    it would    shed some 28000 workers, including many at its parks in florida and california.\n",
    "```"
   ]
  },
  {
   "cell_type": "markdown",
   "metadata": {},
   "source": [
    "## Remove unwanted spaces from string"
   ]
  },
  {
   "cell_type": "code",
   "execution_count": 33,
   "metadata": {},
   "outputs": [
    {
     "name": "stdout",
     "output_type": "stream",
     "text": [
      "just 2 weeks ago, disney announced it would shed some 28000 workers, including many at its parks in florida and california.\n"
     ]
    }
   ],
   "source": [
    "### START CODE HERE ###\n",
    "# Remove unwanted spaces at the begining and at the end of the string\n",
    "text = \n",
    "# Remove unwanted spaces inside the string\n",
    "text = \n",
    "### END CODE HERE ###\n",
    "print(text)"
   ]
  },
  {
   "cell_type": "markdown",
   "metadata": {},
   "source": [
    "#### Expected output\n",
    "```\n",
    "just 2 weeks ago, disney announced it would shed some 28000 workers, including many at its parks in florida and california.\n",
    "```"
   ]
  },
  {
   "cell_type": "markdown",
   "metadata": {},
   "source": [
    "## Replace numbers with NUM"
   ]
  },
  {
   "cell_type": "code",
   "execution_count": 34,
   "metadata": {},
   "outputs": [
    {
     "name": "stdout",
     "output_type": "stream",
     "text": [
      "just NUM weeks ago, disney announced it would shed some NUM workers, including many at its parks in florida and california.\n"
     ]
    }
   ],
   "source": [
    "### START CODE HERE ###\n",
    "text = \n",
    "### END CODE HERE ###\n",
    "print(text)"
   ]
  },
  {
   "cell_type": "markdown",
   "metadata": {},
   "source": [
    "#### Expected output\n",
    "```\n",
    "just NUM weeks ago, disney announced it would shed some NUM workers, including many at its parks in florida and california.\n",
    "```"
   ]
  },
  {
   "cell_type": "markdown",
   "metadata": {},
   "source": [
    "## Tokenization\n",
    "- Use nltk.word_tokenize"
   ]
  },
  {
   "cell_type": "code",
   "execution_count": 35,
   "metadata": {},
   "outputs": [
    {
     "name": "stdout",
     "output_type": "stream",
     "text": [
      "['just', 'NUM', 'weeks', 'ago', ',', 'disney', 'announced', 'it', 'would', 'shed', 'some', 'NUM', 'workers', ',', 'including', 'many', 'at', 'its', 'parks', 'in', 'florida', 'and', 'california', '.']\n"
     ]
    }
   ],
   "source": [
    "### START CODE HERE ###\n",
    "tokens = \n",
    "### END CODE HERE ###\n",
    "print(tokens)"
   ]
  },
  {
   "cell_type": "markdown",
   "metadata": {},
   "source": [
    "#### Expected output\n",
    "```\n",
    "['just', 'NUM', 'weeks', 'ago', ',', 'disney', 'announced', 'it', 'would', 'shed', 'some', 'NUM', 'workers', ',', 'including', 'many', 'at', 'its', 'parks', 'in', 'florida', 'and', 'california', '.']\n",
    "```"
   ]
  },
  {
   "cell_type": "markdown",
   "metadata": {},
   "source": [
    "## Remove stop words and punctuations"
   ]
  },
  {
   "cell_type": "code",
   "execution_count": 36,
   "metadata": {},
   "outputs": [
    {
     "name": "stdout",
     "output_type": "stream",
     "text": [
      "Stop words\n",
      "\n",
      "['i', 'me', 'my', 'myself', 'we', 'our', 'ours', 'ourselves', 'you', \"you're\", \"you've\", \"you'll\", \"you'd\", 'your', 'yours', 'yourself', 'yourselves', 'he', 'him', 'his', 'himself', 'she', \"she's\", 'her', 'hers', 'herself', 'it', \"it's\", 'its', 'itself', 'they', 'them', 'their', 'theirs', 'themselves', 'what', 'which', 'who', 'whom', 'this', 'that', \"that'll\", 'these', 'those', 'am', 'is', 'are', 'was', 'were', 'be', 'been', 'being', 'have', 'has', 'had', 'having', 'do', 'does', 'did', 'doing', 'a', 'an', 'the', 'and', 'but', 'if', 'or', 'because', 'as', 'until', 'while', 'of', 'at', 'by', 'for', 'with', 'about', 'against', 'between', 'into', 'through', 'during', 'before', 'after', 'above', 'below', 'to', 'from', 'up', 'down', 'in', 'out', 'on', 'off', 'over', 'under', 'again', 'further', 'then', 'once', 'here', 'there', 'when', 'where', 'why', 'how', 'all', 'any', 'both', 'each', 'few', 'more', 'most', 'other', 'some', 'such', 'no', 'nor', 'not', 'only', 'own', 'same', 'so', 'than', 'too', 'very', 's', 't', 'can', 'will', 'just', 'don', \"don't\", 'should', \"should've\", 'now', 'd', 'll', 'm', 'o', 're', 've', 'y', 'ain', 'aren', \"aren't\", 'couldn', \"couldn't\", 'didn', \"didn't\", 'doesn', \"doesn't\", 'hadn', \"hadn't\", 'hasn', \"hasn't\", 'haven', \"haven't\", 'isn', \"isn't\", 'ma', 'mightn', \"mightn't\", 'mustn', \"mustn't\", 'needn', \"needn't\", 'shan', \"shan't\", 'shouldn', \"shouldn't\", 'wasn', \"wasn't\", 'weren', \"weren't\", 'won', \"won't\", 'wouldn', \"wouldn't\"]\n",
      "\n",
      "Punctuation\n",
      "\n",
      "!\"#$%&'()*+,-./:;<=>?@[\\]^_`{|}~\n"
     ]
    },
    {
     "name": "stderr",
     "output_type": "stream",
     "text": [
      "[nltk_data] Downloading package stopwords to\n",
      "[nltk_data]     C:\\Users\\Admin\\AppData\\Roaming\\nltk_data...\n",
      "[nltk_data]   Package stopwords is already up-to-date!\n"
     ]
    }
   ],
   "source": [
    "nltk.download('stopwords') \n",
    "from nltk.corpus import stopwords\n",
    "stopwords_english = stopwords.words('english')\n",
    "print('Stop words\\n')\n",
    "print(stopwords_english)\n",
    "\n",
    "from string import punctuation\n",
    "print('\\nPunctuation\\n')\n",
    "print(punctuation)"
   ]
  },
  {
   "cell_type": "code",
   "execution_count": 37,
   "metadata": {},
   "outputs": [
    {
     "name": "stdout",
     "output_type": "stream",
     "text": [
      "['NUM', 'weeks', 'ago', 'disney', 'announced', 'would', 'shed', 'NUM', 'workers', 'including', 'many', 'parks', 'florida', 'california']\n"
     ]
    }
   ],
   "source": [
    "### START CODE HERE ###\n",
    "# Convert above stopwords_english and punctuation to set, name them as stopwords_set and punctuations_set respectively\n",
    "stopwords_set  = \n",
    "punctuations_set = \n",
    "# Check each token and delete the one occurs in stopwords_set and punctuations_set\n",
    "filtered_tokens = \n",
    "### END CODE HERE ###\n",
    "print(filtered_tokens)"
   ]
  },
  {
   "cell_type": "markdown",
   "metadata": {},
   "source": [
    "#### Expected output\n",
    "```\n",
    "['NUM', 'weeks', 'ago', 'disney', 'announced', 'would', 'shed', 'NUM', 'workers', 'including', 'many', 'parks', 'florida', 'california']\n",
    "```"
   ]
  },
  {
   "cell_type": "markdown",
   "metadata": {},
   "source": [
    "## Stemming\n",
    "- Using PorterStemmer in NLTK"
   ]
  },
  {
   "cell_type": "code",
   "execution_count": 38,
   "metadata": {},
   "outputs": [
    {
     "name": "stdout",
     "output_type": "stream",
     "text": [
      "['num', 'week', 'ago', 'disney', 'announc', 'would', 'shed', 'num', 'worker', 'includ', 'mani', 'park', 'florida', 'california']\n"
     ]
    }
   ],
   "source": [
    "### START CODE HERE ###\n",
    "# Initialize PorterStemmer\n",
    "stemmer = \n",
    "# Perform Stemming on above filtered_tokens\n",
    "final_tokens = \n",
    "### END CODE HERE ###\n",
    "print(final_tokens)"
   ]
  },
  {
   "cell_type": "markdown",
   "metadata": {},
   "source": [
    "#### Expected output\n",
    "```\n",
    "['num', 'week', 'ago', 'disney', 'announc', 'would', 'shed', 'num', 'worker', 'includ', 'mani', 'park', 'florida', 'california']\n",
    "```"
   ]
  },
  {
   "cell_type": "markdown",
   "metadata": {},
   "source": [
    "## lemmatization\n",
    "- Using WordNetLemmatizer in NLTK"
   ]
  },
  {
   "cell_type": "code",
   "execution_count": 39,
   "metadata": {},
   "outputs": [
    {
     "name": "stdout",
     "output_type": "stream",
     "text": [
      "['NUM', 'week', 'ago', 'disney', 'announced', 'would', 'shed', 'NUM', 'worker', 'including', 'many', 'park', 'florida', 'california']\n"
     ]
    }
   ],
   "source": [
    "### START CODE HERE ###\n",
    "# Initialize WordNetLemmatizer\n",
    "lemmatizer = \n",
    "# Perform lemmatization on above filtered_tokens\n",
    "final_tokens = \n",
    "### END CODE HERE ###\n",
    "print(final_tokens)"
   ]
  },
  {
   "cell_type": "markdown",
   "metadata": {},
   "source": [
    "#### Expected output\n",
    "```\n",
    "['NUM', 'week', 'ago', 'disney', 'announced', 'would', 'shed', 'NUM', 'worker', 'including', 'many', 'park', 'florida', 'california']\n",
    "```"
   ]
  },
  {
   "cell_type": "markdown",
   "metadata": {},
   "source": [
    "## Exercise 02 - Chinese text preprocessing"
   ]
  },
  {
   "cell_type": "code",
   "execution_count": 40,
   "metadata": {},
   "outputs": [
    {
     "name": "stdout",
     "output_type": "stream",
     "text": [
      "金融交易軟件龍頭股恆生電子上午開盤後跳水，有投資者質疑其與交易系統卡單問題有關。隨後有市場人士解釋深交所繫統並非恆生電子提供，該公司股價大跌是因爲螞蟻金服近期被特朗普政府盯上了。\n"
     ]
    }
   ],
   "source": [
    "text = '金融交易軟件龍頭股恆生電子上午開盤後跳水，有投資者質疑其與交易系統卡單問題有關。隨後有市場人士解釋深交所繫統並非恆生電子提供，該公司股價大跌是因爲螞蟻金服近期被特朗普政府盯上了。'\n",
    "print(text)"
   ]
  },
  {
   "cell_type": "markdown",
   "metadata": {},
   "source": [
    "#### Write code to implement following:\n",
    "- Convert text to simplified Chinese by using snownlp\n",
    "- Use jieba to tokenize the text\n",
    "- Remove tokens with length less than 2\n",
    "- Join all the tokens left by '/'"
   ]
  },
  {
   "cell_type": "code",
   "execution_count": 41,
   "metadata": {},
   "outputs": [
    {
     "name": "stdout",
     "output_type": "stream",
     "text": [
      "金融交易/软件/龙头股/恒生/电子/上午/开盘/跳水/投资者/质疑/交易系统/卡单/问题/有关/随后/市场/人士/解释/深交所/系统/并非/恒生/电子/提供/公司/股价/大跌/是因为/蚂蚁/金服/近期/特朗普/政府/盯上\n"
     ]
    }
   ],
   "source": [
    "### START CODE HERE ###\n",
    "\n",
    "### END CODE HERE ###"
   ]
  },
  {
   "cell_type": "markdown",
   "metadata": {},
   "source": [
    "#### Expected output\n",
    "```\n",
    "金融交易/软件/龙头股/恒生/电子/上午/开盘/跳水/投资者/质疑/交易系统/卡单/问题/有关/随后/市场/人士/解释/深交所/系统/并非/恒生/电子/提供/公司/股价/大跌/是因为/蚂蚁/金服/近期/特朗普/政府/盯上\n",
    "```"
   ]
  }
 ],
 "metadata": {
  "kernelspec": {
   "display_name": "Python 3",
   "language": "python",
   "name": "python3"
  },
  "language_info": {
   "codemirror_mode": {
    "name": "ipython",
    "version": 3
   },
   "file_extension": ".py",
   "mimetype": "text/x-python",
   "name": "python",
   "nbconvert_exporter": "python",
   "pygments_lexer": "ipython3",
   "version": "3.7.4"
  }
 },
 "nbformat": 4,
 "nbformat_minor": 2
}
