{
 "cells": [
  {
   "cell_type": "markdown",
   "metadata": {},
   "source": [
    "# Preprocessing\n",
    "\n",
    "In this lab, we will be exploring how to preprocess text for further analysis. Let us first import the libraries we will be using."
   ]
  },
  {
   "cell_type": "code",
   "execution_count": null,
   "metadata": {},
   "outputs": [],
   "source": [
    "import nltk\n",
    "import re\n",
    "import jieba\n",
    "import opencc"
   ]
  },
  {
   "cell_type": "markdown",
   "metadata": {},
   "source": [
    "## Preprocess raw text\n",
    "Data preprocessing is one of the critical steps in any machine learning project. It includes cleaning and formatting the data before feeding into a machine learning algorithm. For NLP, the preprocessing steps are comprised of the following tasks:\n",
    "\n",
    "* Lowercasing\n",
    "* Removing unwanted characters\n",
    "* Tokenizing the string\n",
    "* Removing stop words and punctuation\n",
    "* Stemming or Lemmatization"
   ]
  },
  {
   "cell_type": "markdown",
   "metadata": {},
   "source": [
    "## Exercise 01 - English text preprocessing"
   ]
  },
  {
   "cell_type": "code",
   "execution_count": null,
   "metadata": {},
   "outputs": [],
   "source": [
    "text = '  <span>Just 2 weeks ago</span>, Disney&amp;&amp; announced    it would    shed some 28000 workers, including many at its parks in Florida and California.https://www.bbc.com/news/business-54390428'\n",
    "print(text)"
   ]
  },
  {
   "cell_type": "markdown",
   "metadata": {},
   "source": [
    "## Lowercasing"
   ]
  },
  {
   "cell_type": "code",
   "execution_count": null,
   "metadata": {},
   "outputs": [],
   "source": [
    "### START CODE HERE ###\n",
    "text = \n",
    "### END CODE HERE ###\n",
    "print (text)"
   ]
  },
  {
   "cell_type": "markdown",
   "metadata": {},
   "source": [
    "#### Expected output\n",
    "```\n",
    "  <span>just 2 weeks ago</span>, disney&amp;&amp; announced    it would    shed some 28000 workers, including many at its parks in florida and california.https://www.bbc.com/news/business-54390428\n",
    "```"
   ]
  },
  {
   "cell_type": "markdown",
   "metadata": {},
   "source": [
    "## Removing hyperlinks"
   ]
  },
  {
   "cell_type": "code",
   "execution_count": null,
   "metadata": {},
   "outputs": [],
   "source": [
    "### START CODE HERE ###\n",
    "text = \n",
    "### END CODE HERE ###\n",
    "print (text)"
   ]
  },
  {
   "cell_type": "markdown",
   "metadata": {},
   "source": [
    "#### Expected output\n",
    "```\n",
    "  <span>just 2 weeks ago</span>, disney&amp;&amp; announced    it would    shed some 28000 workers, including many at its parks in florida and california.\n",
    "```"
   ]
  },
  {
   "cell_type": "markdown",
   "metadata": {},
   "source": [
    "## Removing special characters"
   ]
  },
  {
   "cell_type": "code",
   "execution_count": null,
   "metadata": {},
   "outputs": [],
   "source": [
    "### START CODE HERE ###\n",
    "# Remove &amp;\n",
    "text = \n",
    "### END CODE HERE ###\n",
    "print (text)"
   ]
  },
  {
   "cell_type": "markdown",
   "metadata": {},
   "source": [
    "#### Expected output\n",
    "```\n",
    "  <span>just 2 weeks ago</span>, disney announced    it would    shed some 28000 workers, including many at its parks in florida and california.\n",
    "```"
   ]
  },
  {
   "cell_type": "markdown",
   "metadata": {},
   "source": [
    "## Removing html tags"
   ]
  },
  {
   "cell_type": "code",
   "execution_count": null,
   "metadata": {},
   "outputs": [],
   "source": [
    "### START CODE HERE ###\n",
    "text = \n",
    "### END CODE HERE ###\n",
    "print(text)"
   ]
  },
  {
   "cell_type": "markdown",
   "metadata": {},
   "source": [
    "#### Expected output\n",
    "```\n",
    "  just 2 weeks ago, disney announced    it would    shed some 28000 workers, including many at its parks in florida and california.\n",
    "```"
   ]
  },
  {
   "cell_type": "markdown",
   "metadata": {},
   "source": [
    "## Remove unwanted spaces from string"
   ]
  },
  {
   "cell_type": "code",
   "execution_count": null,
   "metadata": {},
   "outputs": [],
   "source": [
    "### START CODE HERE ###\n",
    "# Remove unwanted spaces beforew and after a string\n",
    "text = \n",
    "# Remove unwanted spaces inside a string\n",
    "text = \n",
    "### END CODE HERE ###\n",
    "print(text)"
   ]
  },
  {
   "cell_type": "markdown",
   "metadata": {},
   "source": [
    "#### Expected output\n",
    "```\n",
    "just 2 weeks ago, disney announced it would shed some 28000 workers, including many at its parks in florida and california.\n",
    "```"
   ]
  },
  {
   "cell_type": "markdown",
   "metadata": {},
   "source": [
    "## Replace number with NUM"
   ]
  },
  {
   "cell_type": "code",
   "execution_count": null,
   "metadata": {},
   "outputs": [],
   "source": [
    "### START CODE HERE ###\n",
    "text = \n",
    "### END CODE HERE ###\n",
    "print(text)"
   ]
  },
  {
   "cell_type": "markdown",
   "metadata": {},
   "source": [
    "#### Expected output\n",
    "```\n",
    "just NUM weeks ago, disney announced it would shed some NUM workers, including many at its parks in florida and california.\n",
    "```"
   ]
  },
  {
   "cell_type": "markdown",
   "metadata": {},
   "source": [
    "## Tokenization"
   ]
  },
  {
   "cell_type": "code",
   "execution_count": null,
   "metadata": {},
   "outputs": [],
   "source": [
    "from nltk import word_tokenize\n",
    "### START CODE HERE ###\n",
    "tokens = \n",
    "### END CODE HERE ###\n",
    "print(tokens)"
   ]
  },
  {
   "cell_type": "markdown",
   "metadata": {},
   "source": [
    "#### Expected output\n",
    "```\n",
    "['just', 'NUM', 'weeks', 'ago', ',', 'disney', 'announced', 'it', 'would', 'shed', 'some', 'NUM', 'workers', ',', 'including', 'many', 'at', 'its', 'parks', 'in', 'florida', 'and', 'california', '.']\n",
    "```"
   ]
  },
  {
   "cell_type": "markdown",
   "metadata": {},
   "source": [
    "## Remove stop words and punctuations"
   ]
  },
  {
   "cell_type": "code",
   "execution_count": null,
   "metadata": {},
   "outputs": [],
   "source": [
    "nltk.download('stopwords') \n",
    "from nltk.corpus import stopwords\n",
    "stopwords_english = stopwords.words('english')\n",
    "print('Stop words\\n')\n",
    "print(stopwords_english)\n",
    "\n",
    "from string import punctuation\n",
    "print('\\nPunctuation\\n')\n",
    "print(punctuation)"
   ]
  },
  {
   "cell_type": "code",
   "execution_count": null,
   "metadata": {},
   "outputs": [],
   "source": [
    "stopwords_english  = set(stopwords_english)\n",
    "punctuation = set(punctuation)\n",
    "### START CODE HERE ###\n",
    "filtered_tokens = \n",
    "### END CODE HERE ###\n",
    "print(filtered_tokens)"
   ]
  },
  {
   "cell_type": "markdown",
   "metadata": {},
   "source": [
    "#### Expected output\n",
    "```\n",
    "['NUM', 'weeks', 'ago', 'disney', 'announced', 'would', 'shed', 'NUM', 'workers', 'including', 'many', 'parks', 'florida', 'california']\n",
    "```"
   ]
  },
  {
   "cell_type": "markdown",
   "metadata": {},
   "source": [
    "## Stemming"
   ]
  },
  {
   "cell_type": "code",
   "execution_count": null,
   "metadata": {},
   "outputs": [],
   "source": [
    "from nltk.stem import PorterStemmer\n",
    "stemmer = PorterStemmer()\n",
    "### START CODE HERE ###\n",
    "final_tokens = \n",
    "### END CODE HERE ###\n",
    "print(final_tokens)"
   ]
  },
  {
   "cell_type": "markdown",
   "metadata": {},
   "source": [
    "#### Expected output\n",
    "```\n",
    "['num', 'week', 'ago', 'disney', 'announc', 'would', 'shed', 'num', 'worker', 'includ', 'mani', 'park', 'florida', 'california']\n",
    "```"
   ]
  },
  {
   "cell_type": "markdown",
   "metadata": {},
   "source": [
    "## lemmatization"
   ]
  },
  {
   "cell_type": "code",
   "execution_count": null,
   "metadata": {},
   "outputs": [],
   "source": [
    "from nltk.stem import WordNetLemmatizer\n",
    "lemmatizer = WordNetLemmatizer()\n",
    "### START CODE HERE ###\n",
    "final_tokens = \n",
    "### END CODE HERE ###\n",
    "print(final_tokens)"
   ]
  },
  {
   "cell_type": "markdown",
   "metadata": {},
   "source": [
    "#### Expected output\n",
    "```\n",
    "['NUM', 'week', 'ago', 'disney', 'announced', 'would', 'shed', 'NUM', 'worker', 'including', 'many', 'park', 'florida', 'california']\n",
    "```"
   ]
  },
  {
   "cell_type": "markdown",
   "metadata": {},
   "source": [
    "## Exercise 02 - Chinese text preprocessing"
   ]
  },
  {
   "cell_type": "code",
   "execution_count": null,
   "metadata": {},
   "outputs": [],
   "source": [
    "text = '金融交易軟件龍頭股恆生電子上午開盤後跳水，有投資者質疑其與交易系統卡單問題有關。隨後有市場人士解釋深交所繫統並非恆生電子提供，該公司股價大跌是因爲螞蟻金服近期被特朗普政府盯上了。'\n",
    "print(text)"
   ]
  },
  {
   "cell_type": "markdown",
   "metadata": {},
   "source": [
    "#### Write code to implement following:\n",
    "- Convert text to simplified Chinese\n",
    "- Use jieba to tokenize the text\n",
    "- Remove tokens with length less than 2\n",
    "- Join all the tokens left by '/'"
   ]
  },
  {
   "cell_type": "code",
   "execution_count": null,
   "metadata": {},
   "outputs": [],
   "source": [
    "### START CODE HERE ###\n",
    "\n",
    "### END CODE HERE ###"
   ]
  },
  {
   "cell_type": "markdown",
   "metadata": {},
   "source": [
    "#### Expected output\n",
    "```\n",
    "金融交易/软件/龙头股/恒生/电子/上午/开盘/跳水/投资者/质疑/交易系统/卡单/问题/有关/随后/市场/人士/解释/深交所/系统/并非/恒生/电子/提供/公司/股价/大跌/是因为/蚂蚁/金服/近期/特朗普/政府/盯上\n",
    "```"
   ]
  },
  {
   "cell_type": "code",
   "execution_count": null,
   "metadata": {},
   "outputs": [],
   "source": []
  }
 ],
 "metadata": {
  "kernelspec": {
   "display_name": "Python 3",
   "language": "python",
   "name": "python3"
  },
  "language_info": {
   "codemirror_mode": {
    "name": "ipython",
    "version": 3
   },
   "file_extension": ".py",
   "mimetype": "text/x-python",
   "name": "python",
   "nbconvert_exporter": "python",
   "pygments_lexer": "ipython3",
   "version": "3.7.4"
  }
 },
 "nbformat": 4,
 "nbformat_minor": 2
}
